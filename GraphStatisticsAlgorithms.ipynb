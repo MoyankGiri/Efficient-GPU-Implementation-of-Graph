{
  "nbformat": 4,
  "nbformat_minor": 0,
  "metadata": {
    "colab": {
      "provenance": [],
      "gpuType": "T4"
    },
    "kernelspec": {
      "name": "python3",
      "display_name": "Python 3"
    },
    "language_info": {
      "name": "python"
    },
    "accelerator": "GPU"
  },
  "cells": [
    {
      "cell_type": "code",
      "execution_count": 5,
      "metadata": {
        "colab": {
          "base_uri": "https://localhost:8080/"
        },
        "id": "1iJoMAZasLdr",
        "outputId": "4a27dbe9-4583-4899-ff2d-4945b776d9b3"
      },
      "outputs": [
        {
          "output_type": "stream",
          "name": "stdout",
          "text": [
            "Overwriting listDegree.cu\n"
          ]
        }
      ],
      "source": [
        "%%writefile listDegree.cu\n",
        "#include <iostream>\n",
        "#include <fstream>\n",
        "#include <sstream>\n",
        "#include <vector>\n",
        "#include <string>\n",
        "\n",
        "#define N 5 // Number of nodes in the graph\n",
        "\n",
        "__global__ void computeDegree(int *adjMatrix, int *degree) {\n",
        "    int id = blockIdx.x * blockDim.x + threadIdx.x;\n",
        "    if (id < N) {\n",
        "        int count = 0;\n",
        "        for (int i = 0; i < N; ++i) {\n",
        "            count += adjMatrix[id * N + i];\n",
        "        }\n",
        "        degree[id] = count;\n",
        "    }\n",
        "}\n",
        "\n",
        "int main() {\n",
        "    // Read adjacency matrix from CSV file\n",
        "    std::ifstream file(\"adjacency_matrix.csv\");\n",
        "    if (!file.is_open()) {\n",
        "        std::cerr << \"Error: Unable to open file!\" << std::endl;\n",
        "        return 1;\n",
        "    }\n",
        "\n",
        "    std::vector<std::vector<int>> adjMatrix(N, std::vector<int>(N, 0));\n",
        "    std::string line;\n",
        "    int row = 0;\n",
        "    while (std::getline(file, line) && row < N) {\n",
        "        std::stringstream ss(line);\n",
        "        std::string cell;\n",
        "        int col = 0;\n",
        "        while (std::getline(ss, cell, ',') && col < N) {\n",
        "            adjMatrix[row][col] = std::stoi(cell);\n",
        "            col++;\n",
        "        }\n",
        "        row++;\n",
        "    }\n",
        "\n",
        "    // Print the read adjacency matrix for debugging\n",
        "    std::cout << \"Adjacency Matrix:\" << std::endl;\n",
        "    for (int i = 0; i < N; ++i) {\n",
        "        for (int j = 0; j < N; ++j) {\n",
        "            std::cout << adjMatrix[i][j] << \" \";\n",
        "        }\n",
        "        std::cout << std::endl;\n",
        "    }\n",
        "\n",
        "    // Allocate memory for adjacency matrix and degree array\n",
        "    int *adjMatrix_dev, *degree_dev;\n",
        "    cudaMallocManaged(&adjMatrix_dev, N * N * sizeof(int));\n",
        "    cudaMallocManaged(&degree_dev, N * sizeof(int));\n",
        "\n",
        "    // Copy adjacency matrix to device memory\n",
        "    for (int i = 0; i < N; ++i) {\n",
        "        cudaMemcpy(adjMatrix_dev + i * N, &adjMatrix[i][0], N * sizeof(int), cudaMemcpyHostToDevice);\n",
        "    }\n",
        "\n",
        "    // Launch kernel to compute degree\n",
        "    int blockSize = 256;\n",
        "    int numBlocks = (N + blockSize - 1) / blockSize;\n",
        "    computeDegree<<<numBlocks, blockSize>>>(adjMatrix_dev, degree_dev);\n",
        "    cudaDeviceSynchronize();\n",
        "\n",
        "    // Copy degrees from device to host\n",
        "    int degree[N];\n",
        "    cudaMemcpy(degree, degree_dev, N * sizeof(int), cudaMemcpyDeviceToHost);\n",
        "\n",
        "    // Print out degrees\n",
        "    std::cout << \"Node degrees:\" << std::endl;\n",
        "    for (int i = 0; i < N; ++i) {\n",
        "        std::cout << \"Node \" << i << \": \" << degree[i] << std::endl;\n",
        "    }\n",
        "\n",
        "    // Free memory\n",
        "    cudaFree(adjMatrix_dev);\n",
        "    cudaFree(degree_dev);\n",
        "\n",
        "    return 0;\n",
        "}\n"
      ]
    },
    {
      "cell_type": "code",
      "source": [
        "%%shell\n",
        "nvcc listDegree.cu -o listDegree\n",
        "./listDegree"
      ],
      "metadata": {
        "colab": {
          "base_uri": "https://localhost:8080/"
        },
        "id": "zNytGRXHu8fR",
        "outputId": "b5afcbab-83bd-4e17-d972-34738df3fffd"
      },
      "execution_count": 6,
      "outputs": [
        {
          "output_type": "stream",
          "name": "stdout",
          "text": [
            "Adjacency Matrix:\n",
            "0 1 1 0 0 \n",
            "1 0 1 1 0 \n",
            "1 1 0 1 1 \n",
            "0 1 1 0 1 \n",
            "0 0 1 1 0 \n",
            "Node degrees:\n",
            "Node 0: 2\n",
            "Node 1: 3\n",
            "Node 2: 4\n",
            "Node 3: 3\n",
            "Node 4: 2\n"
          ]
        },
        {
          "output_type": "execute_result",
          "data": {
            "text/plain": []
          },
          "metadata": {},
          "execution_count": 6
        }
      ]
    },
    {
      "cell_type": "code",
      "source": [
        "%%writefile histogram.cu\n",
        "#include <iostream>\n",
        "#include <fstream>\n",
        "#include <sstream>\n",
        "#include <vector>\n",
        "#include <string>\n",
        "\n",
        "#define N 5 // Number of nodes in the graph\n",
        "#define MAX_DEGREE N // Maximum degree of a node in the graph\n",
        "\n",
        "__global__ void computeDegree(int *adjMatrix, int *degree, int *histogram) {\n",
        "    int id = blockIdx.x * blockDim.x + threadIdx.x;\n",
        "    if (id < N) {\n",
        "        int count = 0;\n",
        "        for (int i = 0; i < N; ++i) {\n",
        "            count += adjMatrix[id * N + i]; // Assuming the adjacency matrix is stored in row-major order\n",
        "        }\n",
        "        degree[id] = count;\n",
        "\n",
        "        // Increment the corresponding histogram bin\n",
        "        atomicAdd(&histogram[count], 1);\n",
        "    }\n",
        "}\n",
        "\n",
        "int main() {\n",
        "    // Read adjacency matrix from CSV file\n",
        "    std::ifstream file(\"adjacency_matrix.csv\");\n",
        "    if (!file.is_open()) {\n",
        "        std::cerr << \"Error: Unable to open file!\" << std::endl;\n",
        "        return 1;\n",
        "    }\n",
        "\n",
        "    std::vector<std::vector<int>> adjMatrix(N, std::vector<int>(N, 0));\n",
        "    std::string line;\n",
        "    int row = 0;\n",
        "    while (std::getline(file, line) && row < N) {\n",
        "        std::stringstream ss(line);\n",
        "        std::string cell;\n",
        "        int col = 0;\n",
        "        while (std::getline(ss, cell, ',') && col < N) {\n",
        "            adjMatrix[row][col] = std::stoi(cell);\n",
        "            col++;\n",
        "        }\n",
        "        row++;\n",
        "    }\n",
        "\n",
        "    // Allocate memory for adjacency matrix, degree array, and histogram\n",
        "    int *adjMatrix_dev, *degree_dev, *histogram_dev;\n",
        "    cudaMallocManaged(&adjMatrix_dev, N * N * sizeof(int));\n",
        "    cudaMallocManaged(&degree_dev, N * sizeof(int));\n",
        "    cudaMallocManaged(&histogram_dev, (MAX_DEGREE + 1) * sizeof(int)); // Maximum degree + 1 to include degrees from 0 to MAX_DEGREE\n",
        "\n",
        "    // Copy adjacency matrix to device memory\n",
        "    for (int i = 0; i < N; ++i) {\n",
        "        cudaMemcpy(adjMatrix_dev + i * N, &adjMatrix[i][0], N * sizeof(int), cudaMemcpyHostToDevice);\n",
        "    }\n",
        "\n",
        "    // Initialize histogram array to zeros\n",
        "    cudaMemset(histogram_dev, 0, (MAX_DEGREE + 1) * sizeof(int));\n",
        "\n",
        "    // Launch kernel to compute degree and histogram\n",
        "    int blockSize = 256;\n",
        "    int numBlocks = (N + blockSize - 1) / blockSize;\n",
        "    computeDegree<<<numBlocks, blockSize>>>(adjMatrix_dev, degree_dev, histogram_dev);\n",
        "    cudaDeviceSynchronize();\n",
        "\n",
        "    // Copy degrees and histogram from device to host\n",
        "    int degree[N];\n",
        "    int histogram[MAX_DEGREE + 1];\n",
        "    cudaMemcpy(degree, degree_dev, N * sizeof(int), cudaMemcpyDeviceToHost);\n",
        "    cudaMemcpy(histogram, histogram_dev, (MAX_DEGREE + 1) * sizeof(int), cudaMemcpyDeviceToHost);\n",
        "\n",
        "    // Print out degrees and histogram\n",
        "    std::cout << \"Node degrees:\" << std::endl;\n",
        "    for (int i = 0; i < N; ++i) {\n",
        "        std::cout << \"Node \" << i << \": \" << degree[i] << std::endl;\n",
        "    }\n",
        "\n",
        "    std::cout << \"\\nHistogram of degrees:\" << std::endl;\n",
        "    for (int i = 0; i <= MAX_DEGREE; ++i) {\n",
        "        std::cout << \"Degree \" << i << \": \" << histogram[i] << std::endl;\n",
        "    }\n",
        "\n",
        "    // Free memory\n",
        "    cudaFree(adjMatrix_dev);\n",
        "    cudaFree(degree_dev);\n",
        "    cudaFree(histogram_dev);\n",
        "\n",
        "    return 0;\n",
        "}"
      ],
      "metadata": {
        "colab": {
          "base_uri": "https://localhost:8080/"
        },
        "id": "AAp3FNjlvBxJ",
        "outputId": "647c989b-3ad5-419a-edac-de5c6437e2c6"
      },
      "execution_count": 7,
      "outputs": [
        {
          "output_type": "stream",
          "name": "stdout",
          "text": [
            "Writing histogram.cu\n"
          ]
        }
      ]
    },
    {
      "cell_type": "code",
      "source": [
        "%%shell\n",
        "nvcc histogram.cu -o histogram\n",
        "./histogram"
      ],
      "metadata": {
        "colab": {
          "base_uri": "https://localhost:8080/"
        },
        "id": "79oeV4X8xBFx",
        "outputId": "918f9331-577e-4ef4-a0a7-f7e47d5fb05c"
      },
      "execution_count": 8,
      "outputs": [
        {
          "output_type": "stream",
          "name": "stdout",
          "text": [
            "Node degrees:\n",
            "Node 0: 2\n",
            "Node 1: 3\n",
            "Node 2: 4\n",
            "Node 3: 3\n",
            "Node 4: 2\n",
            "\n",
            "Histogram of degrees:\n",
            "Degree 0: 0\n",
            "Degree 1: 0\n",
            "Degree 2: 2\n",
            "Degree 3: 2\n",
            "Degree 4: 1\n",
            "Degree 5: 0\n"
          ]
        },
        {
          "output_type": "execute_result",
          "data": {
            "text/plain": []
          },
          "metadata": {},
          "execution_count": 8
        }
      ]
    },
    {
      "cell_type": "code",
      "source": [
        "%%writefile diameter.cu\n",
        "#include <iostream>\n",
        "#include <fstream>\n",
        "#include <sstream>\n",
        "#include <vector>\n",
        "#include <string>\n",
        "\n",
        "#define N 5 // Number of nodes in the graph\n",
        "#define INF 99999 // Infinity value for unreachable nodes\n",
        "\n",
        "__global__ void floydWarshall(int *adjMatrix, int *dist) {\n",
        "    int idx = threadIdx.x + blockIdx.x * blockDim.x;\n",
        "    int idy = threadIdx.y + blockIdx.y * blockDim.y;\n",
        "\n",
        "    if (idx < N && idy < N) {\n",
        "        if (idx == idy)\n",
        "            dist[idx * N + idy] = 0;\n",
        "        else if (adjMatrix[idx * N + idy] == 0)\n",
        "            dist[idx * N + idy] = INF;\n",
        "        else\n",
        "            dist[idx * N + idy] = adjMatrix[idx * N + idy];\n",
        "    }\n",
        "    __syncthreads();\n",
        "\n",
        "    for (int k = 0; k < N; k++) {\n",
        "        if (dist[idx * N + k] + dist[k * N + idy] < dist[idx * N + idy]) {\n",
        "            dist[idx * N + idy] = dist[idx * N + k] + dist[k * N + idy];\n",
        "        }\n",
        "        __syncthreads();\n",
        "    }\n",
        "}\n",
        "\n",
        "int main() {\n",
        "    // Read adjacency matrix from CSV file\n",
        "    std::ifstream file(\"adjacency_matrix.csv\");\n",
        "    if (!file.is_open()) {\n",
        "        std::cerr << \"Error: Unable to open file!\" << std::endl;\n",
        "        return 1;\n",
        "    }\n",
        "\n",
        "    std::vector<std::vector<int>> adjMatrix(N, std::vector<int>(N, 0));\n",
        "    std::string line;\n",
        "    int row = 0;\n",
        "    while (std::getline(file, line) && row < N) {\n",
        "        std::stringstream ss(line);\n",
        "        std::string cell;\n",
        "        int col = 0;\n",
        "        while (std::getline(ss, cell, ',') && col < N) {\n",
        "            adjMatrix[row][col] = std::stoi(cell);\n",
        "            col++;\n",
        "        }\n",
        "        row++;\n",
        "    }\n",
        "\n",
        "    // Allocate memory for adjacency matrix and distance matrix\n",
        "    int *adjMatrix_dev, *dist_dev;\n",
        "    cudaMallocManaged(&adjMatrix_dev, N * N * sizeof(int));\n",
        "    cudaMallocManaged(&dist_dev, N * N * sizeof(int));\n",
        "\n",
        "    // Copy adjacency matrix to device memory\n",
        "    for (int i = 0; i < N; ++i) {\n",
        "        cudaMemcpy(adjMatrix_dev + i * N, &adjMatrix[i][0], N * sizeof(int), cudaMemcpyHostToDevice);\n",
        "    }\n",
        "\n",
        "    // Launch kernel to run Floyd-Warshall algorithm\n",
        "    dim3 threadsPerBlock(N, N);\n",
        "    dim3 numBlocks(1, 1);\n",
        "    if (N * N > 256) {\n",
        "        threadsPerBlock.x = 256;\n",
        "        threadsPerBlock.y = 1;\n",
        "        numBlocks.x = (N + threadsPerBlock.x - 1) / threadsPerBlock.x;\n",
        "        numBlocks.y = (N + threadsPerBlock.y - 1) / threadsPerBlock.y;\n",
        "    }\n",
        "    floydWarshall<<<numBlocks, threadsPerBlock>>>(adjMatrix_dev, dist_dev);\n",
        "    cudaDeviceSynchronize();\n",
        "\n",
        "    // Find the maximum distance (diameter) in the distance matrix\n",
        "    int diameter = 0;\n",
        "    for (int i = 0; i < N * N; i++) {\n",
        "        if (dist_dev[i] != INF && dist_dev[i] > diameter)\n",
        "            diameter = dist_dev[i];\n",
        "    }\n",
        "\n",
        "    std::cout << \"Diameter of the graph: \" << diameter << std::endl;\n",
        "\n",
        "    // Free memory\n",
        "    cudaFree(adjMatrix_dev);\n",
        "    cudaFree(dist_dev);\n",
        "\n",
        "    return 0;\n",
        "}"
      ],
      "metadata": {
        "colab": {
          "base_uri": "https://localhost:8080/"
        },
        "id": "oU-cQ3j6xD24",
        "outputId": "e2504e01-cfc1-41fa-9c2f-70c5d3fb0ab4"
      },
      "execution_count": 9,
      "outputs": [
        {
          "output_type": "stream",
          "name": "stdout",
          "text": [
            "Writing diameter.cu\n"
          ]
        }
      ]
    },
    {
      "cell_type": "code",
      "source": [
        "%%shell\n",
        "nvcc diameter.cu -o diameter\n",
        "./diameter"
      ],
      "metadata": {
        "colab": {
          "base_uri": "https://localhost:8080/"
        },
        "id": "F9qC-UJexhkP",
        "outputId": "be7c4c12-f6b5-4a96-9c56-b95c0f91c183"
      },
      "execution_count": 10,
      "outputs": [
        {
          "output_type": "stream",
          "name": "stdout",
          "text": [
            "Diameter of the graph: 2\n"
          ]
        },
        {
          "output_type": "execute_result",
          "data": {
            "text/plain": []
          },
          "metadata": {},
          "execution_count": 10
        }
      ]
    },
    {
      "cell_type": "code",
      "source": [
        "%%writefile maxminDegree.cu\n",
        "#include <iostream>\n",
        "#include <fstream>\n",
        "#include <sstream>\n",
        "#include <vector>\n",
        "#include <string>\n",
        "\n",
        "#define N 5 // Number of nodes in the graph\n",
        "\n",
        "__global__ void computeDegree(int *adjMatrix, int *degree) {\n",
        "    int id = blockIdx.x * blockDim.x + threadIdx.x;\n",
        "    if (id < N) {\n",
        "        int count = 0;\n",
        "        for (int i = 0; i < N; ++i) {\n",
        "            count += adjMatrix[id * N + i]; // Assuming the adjacency matrix is stored in row-major order\n",
        "        }\n",
        "        degree[id] = count;\n",
        "    }\n",
        "}\n",
        "\n",
        "int main() {\n",
        "    // Read adjacency matrix from CSV file\n",
        "    std::ifstream file(\"adjacency_matrix.csv\");\n",
        "    if (!file.is_open()) {\n",
        "        std::cerr << \"Error: Unable to open file!\" << std::endl;\n",
        "        return 1;\n",
        "    }\n",
        "\n",
        "    std::vector<std::vector<int>> adjMatrix(N, std::vector<int>(N, 0));\n",
        "    std::string line;\n",
        "    int row = 0;\n",
        "    while (std::getline(file, line) && row < N) {\n",
        "        std::stringstream ss(line);\n",
        "        std::string cell;\n",
        "        int col = 0;\n",
        "        while (std::getline(ss, cell, ',') && col < N) {\n",
        "            adjMatrix[row][col] = std::stoi(cell);\n",
        "            col++;\n",
        "        }\n",
        "        row++;\n",
        "    }\n",
        "\n",
        "    // Allocate memory for adjacency matrix and degree array\n",
        "    int *adjMatrix_dev, *degree_dev;\n",
        "    cudaMallocManaged(&adjMatrix_dev, N * N * sizeof(int));\n",
        "    cudaMallocManaged(&degree_dev, N * sizeof(int));\n",
        "\n",
        "    // Copy adjacency matrix to device memory\n",
        "    for (int i = 0; i < N; ++i) {\n",
        "        cudaMemcpy(adjMatrix_dev + i * N, &adjMatrix[i][0], N * sizeof(int), cudaMemcpyHostToDevice);\n",
        "    }\n",
        "\n",
        "    // Launch kernel to compute degree\n",
        "    int blockSize = 256;\n",
        "    int numBlocks = (N + blockSize - 1) / blockSize;\n",
        "    computeDegree<<<numBlocks, blockSize>>>(adjMatrix_dev, degree_dev);\n",
        "    cudaDeviceSynchronize();\n",
        "\n",
        "    // Find minimum and maximum degrees along with their corresponding vertex IDs\n",
        "    int minDegree = degree_dev[0], maxDegree = degree_dev[0];\n",
        "    int minVertexID = 0, maxVertexID = 0;\n",
        "    for (int i = 1; i < N; ++i) {\n",
        "        if (degree_dev[i] < minDegree) {\n",
        "            minDegree = degree_dev[i];\n",
        "            minVertexID = i;\n",
        "        }\n",
        "        if (degree_dev[i] > maxDegree) {\n",
        "            maxDegree = degree_dev[i];\n",
        "            maxVertexID = i;\n",
        "        }\n",
        "    }\n",
        "\n",
        "    // Print minimum and maximum degrees with their corresponding vertex IDs\n",
        "    std::cout << \"Minimum Degree: \" << minDegree << \" (Vertex ID: \" << minVertexID << \")\" << std::endl;\n",
        "    std::cout << \"Maximum Degree: \" << maxDegree << \" (Vertex ID: \" << maxVertexID << \")\" << std::endl;\n",
        "\n",
        "    // Free memory\n",
        "    cudaFree(adjMatrix_dev);\n",
        "    cudaFree(degree_dev);\n",
        "\n",
        "    return 0;\n",
        "}"
      ],
      "metadata": {
        "colab": {
          "base_uri": "https://localhost:8080/"
        },
        "id": "lAm4CpcDxkiq",
        "outputId": "07d0a34d-e0da-4785-9bf4-f96fb96f97f3"
      },
      "execution_count": 11,
      "outputs": [
        {
          "output_type": "stream",
          "name": "stdout",
          "text": [
            "Writing maxminDegree.cu\n"
          ]
        }
      ]
    },
    {
      "cell_type": "code",
      "source": [
        "%%shell\n",
        "nvcc maxminDegree.cu -o maxminDegree\n",
        "./maxminDegree"
      ],
      "metadata": {
        "colab": {
          "base_uri": "https://localhost:8080/"
        },
        "id": "MOiNaoIuyIZY",
        "outputId": "159aad42-a91c-42e8-a000-b38448a455f7"
      },
      "execution_count": 12,
      "outputs": [
        {
          "output_type": "stream",
          "name": "stdout",
          "text": [
            "Minimum Degree: 2 (Vertex ID: 0)\n",
            "Maximum Degree: 4 (Vertex ID: 2)\n"
          ]
        },
        {
          "output_type": "execute_result",
          "data": {
            "text/plain": []
          },
          "metadata": {},
          "execution_count": 12
        }
      ]
    },
    {
      "cell_type": "code",
      "source": [],
      "metadata": {
        "id": "eEEEvml-yLVB"
      },
      "execution_count": null,
      "outputs": []
    }
  ]
}